{
  "nbformat": 4,
  "nbformat_minor": 0,
  "metadata": {
    "colab": {
      "name": "Local volatility project AOPM definitivo",
      "provenance": []
    },
    "kernelspec": {
      "name": "python3",
      "display_name": "Python 3"
    },
    "language_info": {
      "name": "python"
    }
  },
  "cells": [
    {
      "cell_type": "markdown",
      "source": [
        "# Files and libraries"
      ],
      "metadata": {
        "id": "XIh8eSJBVGc_"
      }
    },
    {
      "cell_type": "code",
      "execution_count": 1,
      "metadata": {
        "id": "H1A4iT3kVAqO"
      },
      "outputs": [],
      "source": [
        "import numpy as np\n",
        "from math import *\n",
        "import pandas as pd\n",
        "import matplotlib.pyplot as plt\n",
        "import scipy.stats as ss\n",
        "from time import time\n",
        "from scipy.optimize import curve_fit\n",
        "from google.colab import files\n",
        "import io\n",
        "import matplotlib as mpl\n",
        "import matplotlib.pyplot as plt\n",
        "from mpl_toolkits.mplot3d import Axes3D\n",
        "from scipy import optimize"
      ]
    },
    {
      "cell_type": "code",
      "source": [
        "uploaded = files.upload()"
      ],
      "metadata": {
        "colab": {
          "resources": {
            "http://localhost:8080/nbextensions/google.colab/files.js": {
              "data": "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",
              "ok": true,
              "headers": [
                [
                  "content-type",
                  "application/javascript"
                ]
              ],
              "status": 200,
              "status_text": ""
            }
          },
          "base_uri": "https://localhost:8080/",
          "height": 142
        },
        "id": "Cz9eE7TmVFqO",
        "outputId": "e2cd4f10-8ed1-45b4-e0be-42669e46917d"
      },
      "execution_count": 4,
      "outputs": [
        {
          "output_type": "display_data",
          "data": {
            "text/plain": [
              "<IPython.core.display.HTML object>"
            ],
            "text/html": [
              "\n",
              "     <input type=\"file\" id=\"files-fbc29773-288c-4c48-a686-2aabaf086ed3\" name=\"files[]\" multiple disabled\n",
              "        style=\"border:none\" />\n",
              "     <output id=\"result-fbc29773-288c-4c48-a686-2aabaf086ed3\">\n",
              "      Upload widget is only available when the cell has been executed in the\n",
              "      current browser session. Please rerun this cell to enable.\n",
              "      </output>\n",
              "      <script src=\"/nbextensions/google.colab/files.js\"></script> "
            ]
          },
          "metadata": {}
        },
        {
          "output_type": "stream",
          "name": "stdout",
          "text": [
            "Saving DATA_ES500.xlsx to DATA_ES500.xlsx\n",
            "Saving Forward_prices.xlsx to Forward_prices.xlsx\n",
            "Saving IV.xlsx to IV.xlsx\n"
          ]
        }
      ]
    },
    {
      "cell_type": "code",
      "source": [
        "d = pd.read_excel(io.BytesIO(uploaded['DATA_ES500.xlsx']))\n",
        "fwd = pd.read_excel(io.BytesIO(uploaded['Forward_prices.xlsx']))\n",
        "IV = pd.read_excel(io.BytesIO(uploaded['IV.xlsx']))"
      ],
      "metadata": {
        "id": "1bJb4PgsVkNr"
      },
      "execution_count": 5,
      "outputs": []
    },
    {
      "cell_type": "code",
      "source": [
        "IV"
      ],
      "metadata": {
        "id": "qlhrjCYMHbkE"
      },
      "execution_count": null,
      "outputs": []
    },
    {
      "cell_type": "code",
      "source": [
        "K = d['Strikes'].to_numpy()\n",
        "forwards = fwd['Forwards'].to_numpy()\n",
        "I = IV.to_numpy() #transform DataFrame to a matrix\n",
        "Strike = K.tolist()\n"
      ],
      "metadata": {
        "id": "GdjMg4IWVrP_"
      },
      "execution_count": 6,
      "outputs": []
    },
    {
      "cell_type": "code",
      "source": [
        "start_date= '04/11/2019'\n",
        "start_date = pd.to_datetime(start_date)\n",
        "#Maturities\n",
        "T = []\n",
        "\n",
        "\n",
        "\n",
        "for i in range(18):\n",
        "  end = pd.to_datetime(IV.columns.values[i])\n",
        "  maturity = (end - start_date)\n",
        "  T.append(float(maturity.days)/365)"
      ],
      "metadata": {
        "id": "yxUspFi6Vs1x"
      },
      "execution_count": 7,
      "outputs": []
    },
    {
      "cell_type": "markdown",
      "source": [
        "# Option prices from implied volatility, Black-Scholes"
      ],
      "metadata": {
        "id": "qS4G28EfVJmJ"
      }
    },
    {
      "cell_type": "code",
      "source": [
        "def d1(s0,k,r,sigma,T):\n",
        "    return (np.log(s0/k)+(r+sigma**2/2)*T)/(sigma*np.sqrt(T))\n",
        "\n",
        "def d2(s0,k,r,sigma,T):\n",
        "     return (np.log(s0/k)+(r-sigma**2/2)*T)/(sigma*np.sqrt(T))\n",
        "    \n",
        "def BS(s0,k,r,sigma,T):\n",
        "    return s0*ss.norm.cdf(d1(s0,k,r,sigma,T))-k*np.exp(-r*T)*ss.norm.cdf(d2(s0,k,r,sigma,T))"
      ],
      "metadata": {
        "id": "mVUgc88XVvNf"
      },
      "execution_count": 9,
      "outputs": []
    },
    {
      "cell_type": "code",
      "source": [
        "prices = np.zeros((51,18))\n",
        "\n",
        "for i in range(len(IV)):\n",
        "  for j in range(len(forwards)):\n",
        "    prices[i][j] = BS(forwards[j],K[i],0,I[i][j],T[j]) #Black model, r = 0\n",
        "\n",
        "BS_price = pd.DataFrame(prices)"
      ],
      "metadata": {
        "id": "HTYV7RciVw1F"
      },
      "execution_count": 10,
      "outputs": []
    },
    {
      "cell_type": "code",
      "source": [
        "x = T\n",
        "y = K\n",
        "X,Y = np.meshgrid(x,y)\n",
        "Z = BS_price\n",
        "fig = plt.figure()\n",
        "fig.set_size_inches(12, 8)\n",
        "ax = fig.add_subplot(111,projection='3d')\n",
        "ax.plot_surface(Y,X,Z)"
      ],
      "metadata": {
        "id": "2oIXroDeXiJb"
      },
      "execution_count": null,
      "outputs": []
    },
    {
      "cell_type": "markdown",
      "source": [
        "# From implied to local vol through Dupire"
      ],
      "metadata": {
        "id": "kwTIzV4XVKzc"
      }
    },
    {
      "cell_type": "code",
      "source": [
        "y = np.zeros((51,18))\n",
        "\n",
        "for i in range(51):\n",
        "  y[i] = np.log(K[i]/forwards)\n",
        "\n",
        "I = IV.to_numpy() #transform DataFrame to a matrix\n",
        "\n",
        "Local_var = np.zeros((50,17))\n",
        "\n",
        "Local_vol = np.zeros((50,17))\n",
        "\n",
        "didt = np.zeros((50,17)) #derivative of implied with respect to time\n",
        "didy = np.zeros((50,17)) #derivate of IV with respect to y\n",
        "didy2 = np.zeros((50,17)) #2nd derivative of IV respect to y\n",
        "\n",
        "for i in range(0,len(IV)-1):\n",
        "  for j in range(17):\n",
        "    didt[i][j] = (I[i][j+1] - I[i][j]) / (T[j+1] - T[j])\n",
        "    didy[i][j] = (I[i+1][j] - I[i][j]) / (y[i+1][j]-y[i][j]) \n",
        "    didy2[i][j] = (I[i+1][j]-I[i-1][j] + 2*I[i][j])/ ((y[i+1][j]-y[i][j])**2) \n",
        "    \n",
        "    Local_var[i][j] = ((2*T[j]*I[i][j]*didt[i][j] + I[i][j]**2)/((1-2*didy[i][j]*y[i][j]/I[i][j] + 2*(T[j]*I[i][j]*didy[i][j])**2*(-1/8-1/(2*T[j]*I[i][j]**2)+y[i][j]**2) + T[j]*I[i][j]*didy2[i][j] + 2*T[j]*didy[i][j]**2)))\n",
        "\n",
        "    if Local_var[i][j] >=0:\n",
        "      Local_vol[i][j] = (Local_var[i][j])**.5\n",
        "    \n",
        "    else:\n",
        "      Local_vol[i][j] = (Local_vol[i][j+1] + Local_vol[i][j-1])/2\n",
        "\n",
        "\n",
        "Local = pd.DataFrame(Local_vol)"
      ],
      "metadata": {
        "id": "8zYoKYQ3YHLr"
      },
      "execution_count": 14,
      "outputs": []
    },
    {
      "cell_type": "code",
      "source": [
        "Local"
      ],
      "metadata": {
        "id": "vxEhTxuBeRF_"
      },
      "execution_count": null,
      "outputs": []
    },
    {
      "cell_type": "code",
      "source": [
        "df = Local"
      ],
      "metadata": {
        "id": "mub4nRBZYPUa"
      },
      "execution_count": 18,
      "outputs": []
    },
    {
      "cell_type": "code",
      "source": [
        "fig,ax= plt.subplots(nrows=3,ncols=3,figsize=(12,8),gridspec_kw={'wspace':0.2,'hspace':0.1},sharex='col',sharey='row')\n",
        "\n",
        "\n",
        "ax[0,0].plot(K[0:50],df[0],label = 'T = 0.1')\n",
        "ax[0,0].grid()  \n",
        "ax[0,0].legend(loc='best')\n",
        "\n",
        "ax[0,1].plot(K[0:50],df[1],label = 'T = 0.19')\n",
        "ax[0,1].grid()  \n",
        "ax[0,1].legend(loc='best')\n",
        "\n",
        "ax[0,2].plot(K[0:50],df[2],label = 'T = 0.27')\n",
        "ax[0,2].grid()  \n",
        "ax[0,2].legend(loc='best')\n",
        "\n",
        "ax[1,0].plot(K[0:50],df[3],label = 'T = 0.35')\n",
        "ax[1,0].grid()  \n",
        "ax[1,0].legend(loc='best')\n",
        "\n",
        "ax[1,1].plot(K[0:50],df[4],label = 'T = 0.44')\n",
        "ax[1,1].grid()  \n",
        "ax[1,1].legend(loc='best')\n",
        "\n",
        "ax[1,2].plot(K[0:50],df[5],label = 'T = 0.69' )\n",
        "ax[1,2].grid()  \n",
        "ax[1,2].legend(loc='best')\n",
        "\n",
        "ax[2,0].plot(K[0:50],df[6],label = 'T = 0.94')\n",
        "ax[2,0].grid()  \n",
        "ax[2,0].legend(loc='best')\n",
        "\n",
        "ax[2,1].plot(K[0:50],df[7],label = 'T = 1.19')\n",
        "ax[2,1].grid()  \n",
        "ax[2,1].legend(loc='best')\n",
        "\n",
        "ax[2,2].plot(K[0:50],df[8],label = 'T = 1.69')\n",
        "ax[2,2].grid()  \n",
        "ax[2,2].legend(loc='best')\n",
        "\n",
        "plt.setp(ax[-1, :], xlabel='Strikes')\n",
        "plt.setp(ax[:, 0], ylabel=' Local volatility')"
      ],
      "metadata": {
        "id": "cVg-uAj0YTej"
      },
      "execution_count": null,
      "outputs": []
    },
    {
      "cell_type": "code",
      "source": [
        "fig,ax= plt.subplots(nrows=3,ncols=3,figsize=(12,8),gridspec_kw={'wspace':0.2,'hspace':0.1},sharex='col',sharey='row')\n",
        "\n",
        "\n",
        "ax[0,0].plot(K[1:50],df[9],label = 'T = 2.19 ')\n",
        "ax[0,0].grid()  \n",
        "ax[0,0].legend(loc='best')\n",
        "\n",
        "ax[0,1].plot(K[1:50],df[10],label = 'T = 2.68')\n",
        "ax[0,1].grid()  \n",
        "ax[0,1].legend(loc='best')\n",
        "\n",
        "ax[0,2].plot(K[1:50],df[11],label = 'T = 3.68')\n",
        "ax[0,2].grid()  \n",
        "ax[0,2].legend(loc='best')\n",
        "\n",
        "ax[1,0].plot(K[1:50],df[12],label = 'T = 4.68')\n",
        "ax[1,0].grid()  \n",
        "ax[1,0].legend(loc='best')\n",
        "\n",
        "ax[1,1].plot(K[1:50],df[13],label = 'T = 5.7')\n",
        "ax[1,1].grid()  \n",
        "ax[1,1].legend(loc='best')\n",
        "\n",
        "ax[1,2].plot(K[1:50],df[14],label = 'T = 6.7')\n",
        "ax[1,2].grid()  \n",
        "ax[1,2].legend(loc='best')\n",
        "\n",
        "ax[2,0].plot(K[1:50],df[15],label = 'T = 7.69')\n",
        "ax[2,0].grid()  \n",
        "ax[2,0].legend(loc='best')\n",
        "\n",
        "ax[2,1].plot(K[1:50],df[16],label = 'T = 8.69')\n",
        "ax[2,1].grid()  \n",
        "ax[2,1].legend(loc='best')\n",
        "\n",
        "ax[2,2].grid()\n",
        "\n",
        "plt.setp(ax[-1, :], xlabel='Strikes')\n",
        "plt.setp(ax[:, 0], ylabel=' Local volatility')"
      ],
      "metadata": {
        "id": "g6QdU0oCYW5h"
      },
      "execution_count": null,
      "outputs": []
    },
    {
      "cell_type": "code",
      "source": [
        "x = df.columns\n",
        "y = df.index\n",
        "X,Y = np.meshgrid(x,y)\n",
        "Z = df\n",
        "fig = plt.figure()\n",
        "fig.set_size_inches(12, 8)\n",
        "ax = fig.add_subplot(111,projection='3d')\n",
        "ax.plot_surface(Y,X,Z)"
      ],
      "metadata": {
        "id": "5lOw_TMRYxVd"
      },
      "execution_count": null,
      "outputs": []
    },
    {
      "cell_type": "markdown",
      "source": [
        "# SVI calibration"
      ],
      "metadata": {
        "id": "isPPWUcHVKkk"
      }
    },
    {
      "cell_type": "code",
      "source": [
        "def SVI_calibration(k,a,b,rho,m,sigma):\n",
        "  SVI = a+b*(rho*(k-m)+np.sqrt((k-m)**2+sigma**2))\n",
        "  return SVI\n",
        "\n",
        "log_strikes = np.log(K)\n",
        "parameters = np.zeros((5,len(T)))\n",
        "\n",
        "for i in range(0,len(T)):\n",
        "  implied_var = (IV.iloc[:,i])**2\n",
        "\n",
        "  popt,pcov = curve_fit(SVI_calibration,log_strikes,implied_var,p0=(-0.1949410760452949, 0.3340214781169242, -0.013807059032125367, 8.213418579710023, 0.6324108554863928),maxfev = 10000000)\n",
        "\n",
        "  parameters[:,i] = np.transpose(popt)\n",
        "\n",
        "a_cal = parameters[0,:]\n",
        "b_cal = parameters[1,:]\n",
        "rho_cal = parameters[2,:]\n",
        "m_cal = parameters[3,:]\n",
        "sigma_cal = parameters[4,:]"
      ],
      "metadata": {
        "id": "iv7A896qY7hN"
      },
      "execution_count": 20,
      "outputs": []
    },
    {
      "cell_type": "code",
      "source": [
        "plt.plot(T,a_cal)\n",
        "plt.xlabel('Time to maturity')\n",
        "plt.ylabel('a calibrated')"
      ],
      "metadata": {
        "colab": {
          "base_uri": "https://localhost:8080/",
          "height": 296
        },
        "id": "CPEQK9CAZBHB",
        "outputId": "38fa9d1b-2e6f-44ca-8a4f-c8ae2d8d43b0"
      },
      "execution_count": 66,
      "outputs": [
        {
          "output_type": "execute_result",
          "data": {
            "text/plain": [
              "Text(0, 0.5, 'a calibrated')"
            ]
          },
          "metadata": {},
          "execution_count": 66
        },
        {
          "output_type": "display_data",
          "data": {
            "text/plain": [
              "<Figure size 432x288 with 1 Axes>"
            ],
            "image/png": "[encoded data removed]"
          },
          "metadata": {
            "needs_background": "light"
          }
        }
      ]
    },
    {
      "cell_type": "code",
      "source": [
        "plt.plot(T,b_cal)\n",
        "plt.xlabel('Time to maturity')\n",
        "plt.ylabel('b calibrated')"
      ],
      "metadata": {
        "colab": {
          "base_uri": "https://localhost:8080/",
          "height": 296
        },
        "id": "yGab9SMt1_ZP",
        "outputId": "0f4fd936-82d0-4f9a-9dcc-0038ad342cd4"
      },
      "execution_count": 67,
      "outputs": [
        {
          "output_type": "execute_result",
          "data": {
            "text/plain": [
              "Text(0, 0.5, 'b calibrated')"
            ]
          },
          "metadata": {},
          "execution_count": 67
        },
        {
          "output_type": "display_data",
          "data": {
            "text/plain": [
              "<Figure size 432x288 with 1 Axes>"
            ],
            "image/png": "[encoded data removed]"
          },
          "metadata": {
            "needs_background": "light"
          }
        }
      ]
    },
    {
      "cell_type": "code",
      "source": [
        "plt.plot(T,m_cal)\n",
        "plt.xlabel('Time to maturity')\n",
        "plt.ylabel('m calibrated')"
      ],
      "metadata": {
        "id": "P_2YLJ3pZFmh",
        "colab": {
          "base_uri": "https://localhost:8080/",
          "height": 296
        },
        "outputId": "8e3d9e3c-ff5e-405b-94f4-0407d286a14f"
      },
      "execution_count": 24,
      "outputs": [
        {
          "output_type": "execute_result",
          "data": {
            "text/plain": [
              "Text(0, 0.5, 'm calibrated')"
            ]
          },
          "metadata": {},
          "execution_count": 24
        },
        {
          "output_type": "display_data",
          "data": {
            "text/plain": [
              "<Figure size 432x288 with 1 Axes>"
            ],
            "image/png": "[encoded data removed]"
          },
          "metadata": {
            "needs_background": "light"
          }
        }
      ]
    },
    {
      "cell_type": "code",
      "source": [
        "plt.plot(T,rho_cal)\n",
        "plt.xlabel('Time to maturity')\n",
        "plt.ylabel('rho calibrated')"
      ],
      "metadata": {
        "colab": {
          "base_uri": "https://localhost:8080/",
          "height": 296
        },
        "id": "gjf4KScD1fe1",
        "outputId": "c842ebb9-131a-4878-9125-5b05514cd841"
      },
      "execution_count": 25,
      "outputs": [
        {
          "output_type": "execute_result",
          "data": {
            "text/plain": [
              "Text(0, 0.5, 'rho calibrated')"
            ]
          },
          "metadata": {},
          "execution_count": 25
        },
        {
          "output_type": "display_data",
          "data": {
            "text/plain": [
              "<Figure size 432x288 with 1 Axes>"
            ],
            "image/png": "[encoded data removed]"
          },
          "metadata": {
            "needs_background": "light"
          }
        }
      ]
    },
    {
      "cell_type": "code",
      "source": [
        "plt.plot(T,sigma_cal)\n",
        "plt.xlabel('Time to maturity')\n",
        "plt.ylabel('sigma calibrated')"
      ],
      "metadata": {
        "colab": {
          "base_uri": "https://localhost:8080/",
          "height": 296
        },
        "id": "Dyopu3dW2I1W",
        "outputId": "1d80447a-b9a5-48f8-923b-8f3d7f72e9d5"
      },
      "execution_count": 41,
      "outputs": [
        {
          "output_type": "execute_result",
          "data": {
            "text/plain": [
              "Text(0, 0.5, 'sigma calibrated')"
            ]
          },
          "metadata": {},
          "execution_count": 41
        },
        {
          "output_type": "display_data",
          "data": {
            "text/plain": [
              "<Figure size 432x288 with 1 Axes>"
            ],
            "image/png": "[encoded data removed]"
          },
          "metadata": {
            "needs_background": "light"
          }
        }
      ]
    },
    {
      "cell_type": "code",
      "source": [
        "from tabulate import tabulate\n",
        "Calibration_par = {'Maturity':T,'a':a_cal,'b':b_cal,'m':m_cal,'rho':rho_cal,'Sigma':sigma_cal}\n",
        "print(tabulate(Calibration_par,headers='keys',tablefmt='fancy_grid',stralign='center'))"
      ],
      "metadata": {
        "colab": {
          "base_uri": "https://localhost:8080/"
        },
        "id": "4ZMzGQNE__o1",
        "outputId": "58eb85f8-e764-472b-e63a-9f8ae1002e76"
      },
      "execution_count": 65,
      "outputs": [
        {
          "output_type": "stream",
          "name": "stdout",
          "text": [
            "╒════════════╤════════════╤══════════╤═════════╤══════════╤══════════╕\n",
            "│   Maturity │          a │        b │       m │      rho │    Sigma │\n",
            "╞════════════╪════════════╪══════════╪═════════╪══════════╪══════════╡\n",
            "│  0.0986301 │ -13.3853   │ 874.288  │ 12.2119 │ 0.998062 │ 0.246476 │\n",
            "├────────────┼────────────┼──────────┼─────────┼──────────┼──────────┤\n",
            "│  0.194521  │  -7.76304  │ 594.646  │ 11.7796 │ 0.99814  │ 0.214718 │\n",
            "├────────────┼────────────┼──────────┼─────────┼──────────┼──────────┤\n",
            "│  0.271233  │  -5.25642  │ 551.778  │ 11.482  │ 0.99851  │ 0.175239 │\n",
            "├────────────┼────────────┼──────────┼─────────┼──────────┼──────────┤\n",
            "│  0.347945  │  -4.23831  │ 449.594  │ 11.3592 │ 0.99846  │ 0.170724 │\n",
            "├────────────┼────────────┼──────────┼─────────┼──────────┼──────────┤\n",
            "│  0.443836  │  -3.57348  │ 378.859  │ 11.2698 │ 0.998407 │ 0.168086 │\n",
            "├────────────┼────────────┼──────────┼─────────┼──────────┼──────────┤\n",
            "│  0.693151  │  -3.01404  │ 375.43   │ 11.1914 │ 0.998601 │ 0.152767 │\n",
            "├────────────┼────────────┼──────────┼─────────┼──────────┼──────────┤\n",
            "│  0.942466  │  -2.17838  │ 316.335  │ 11.0533 │ 0.998728 │ 0.137707 │\n",
            "├────────────┼────────────┼──────────┼─────────┼──────────┼──────────┤\n",
            "│  1.19178   │  -1.424    │ 199.417  │ 10.8392 │ 0.99856  │ 0.134815 │\n",
            "├────────────┼────────────┼──────────┼─────────┼──────────┼──────────┤\n",
            "│  1.69041   │  -1.10925  │ 152.246  │ 10.7747 │ 0.998471 │ 0.134066 │\n",
            "├────────────┼────────────┼──────────┼─────────┼──────────┼──────────┤\n",
            "│  2.18904   │  -0.910767 │ 118.469  │ 10.6773 │ 0.998314 │ 0.135382 │\n",
            "├────────────┼────────────┼──────────┼─────────┼──────────┼──────────┤\n",
            "│  2.68767   │  -0.785218 │ 106.973  │ 10.6656 │ 0.998371 │ 0.131887 │\n",
            "├────────────┼────────────┼──────────┼─────────┼──────────┼──────────┤\n",
            "│  3.68493   │  -0.629259 │  99.6881 │ 10.6131 │ 0.998556 │ 0.121392 │\n",
            "├────────────┼────────────┼──────────┼─────────┼──────────┼──────────┤\n",
            "│  4.68219   │  -0.539994 │  74.4561 │ 10.5951 │ 0.998316 │ 0.130174 │\n",
            "├────────────┼────────────┼──────────┼─────────┼──────────┼──────────┤\n",
            "│  5.69863   │  -0.471532 │  73.943  │ 10.5805 │ 0.998511 │ 0.122369 │\n",
            "├────────────┼────────────┼──────────┼─────────┼──────────┼──────────┤\n",
            "│  6.69589   │  -0.432947 │  64.9517 │ 10.5979 │ 0.998448 │ 0.12612  │\n",
            "├────────────┼────────────┼──────────┼─────────┼──────────┼──────────┤\n",
            "│  7.69315   │  -0.401857 │  54.9844 │ 10.6169 │ 0.99831  │ 0.133213 │\n",
            "├────────────┼────────────┼──────────┼─────────┼──────────┼──────────┤\n",
            "│  8.69041   │  -0.377635 │  44.3312 │ 10.6407 │ 0.99805  │ 0.145185 │\n",
            "├────────────┼────────────┼──────────┼─────────┼──────────┼──────────┤\n",
            "│  9.68767   │  -0.365699 │  42.9126 │ 10.694  │ 0.99808  │ 0.147288 │\n",
            "╘════════════╧════════════╧══════════╧═════════╧══════════╧══════════╛\n"
          ]
        }
      ]
    },
    {
      "cell_type": "markdown",
      "source": [
        "# SURFACES SVI"
      ],
      "metadata": {
        "id": "87C3j6Il2cHd"
      }
    },
    {
      "cell_type": "code",
      "source": [
        "I = np.zeros((51,18))\n",
        "\n",
        "for i in range(18):\n",
        "  for j in range(51):\n",
        "    I[j][i] = (SVI_calibration(np.log(K[j]),a_cal[i],b_cal[i],rho_cal[i],m_cal[i],sigma_cal[i]))**.5 \n"
      ],
      "metadata": {
        "id": "mV0DwYy84mjw"
      },
      "execution_count": 36,
      "outputs": []
    },
    {
      "cell_type": "code",
      "source": [
        "x = T\n",
        "y = K\n",
        "X,Y = np.meshgrid(x,y)\n",
        "Z = I\n",
        "fig = plt.figure()\n",
        "fig.set_size_inches(8, 6)\n",
        "\n",
        "ax = fig.add_subplot(111,projection='3d')\n",
        "ax.plot_surface(Y,X,Z, cmap='hot')\n",
        "\n",
        "\n",
        "ax.set_ylabel('Time to maturity')\n",
        "ax.set_xlabel('Strikes')"
      ],
      "metadata": {
        "id": "Nix7UwmH867D"
      },
      "execution_count": null,
      "outputs": []
    },
    {
      "cell_type": "code",
      "source": [
        "y = np.zeros((51,18))\n",
        "\n",
        "for i in range(51):\n",
        "  y[i] = np.log(K[i]/forwards)"
      ],
      "metadata": {
        "id": "m-NbukIV2_0U"
      },
      "execution_count": 30,
      "outputs": []
    },
    {
      "cell_type": "code",
      "source": [
        "I = np.zeros((51,18))\n",
        "\n",
        "for i in range(18):\n",
        "  for j in range(51):\n",
        "    I[j][i] = (SVI_calibration(np.log(K[j]),a_cal[i],b_cal[i],rho_cal[i],m_cal[i],sigma_cal[i]))**.5 \n",
        "\n",
        "I = pd.DataFrame(I)\n",
        "\n",
        "I = I.to_numpy() \n",
        "\n",
        "Local_var = np.zeros((50,17))\n",
        "\n",
        "Local_vol = np.zeros((50,17))\n",
        "\n",
        "didt = np.zeros((50,17)) \n",
        "didy = np.zeros((50,17))\n",
        "didy2 = np.zeros((50,17)) \n",
        "\n",
        "for i in range(1,len(IV)-1):\n",
        "  for j in range(17):\n",
        "    didt[i][j] = (I[i][j+1] - I[i][j]) / (T[j+1] - T[j])\n",
        "    didy[i][j] = (I[i+1][j] - I[i][j]) / (y[i+1][j]-y[i][j]) \n",
        "    didy2[i][j] = (I[i+1][j]-I[i-1][j] + 2*I[i][j])/ (y[i+1][j]-y[i][j])**2 \n",
        "    \n",
        "    Local_var[i][j] = ((2*T[j]*I[i][j]*didt[i][j] + I[i][j]**2)/((1-2*didy[i][j]*y[i][j]/I[i][j] + 2*(T[j]*I[i][j]*didy[i][j])**2*(-1/8-1/(2*T[j]*I[i][j]**2)+y[i][j]**2) + T[j]*I[i][j]*didy2[i][j] + 2*T[j]*didy[i][j]**2)))\n",
        "\n",
        "    if Local_var[i][j] >=0:\n",
        "      Local_vol[i][j] = (Local_var[i][j])**.5\n",
        "\n",
        "      if Local_vol[i][j] > 5:\n",
        "        Local_vol[i][j] = (Local_vol[i+1][j] + Local_vol[i-1][j])/2\n",
        "\n",
        "    else:\n",
        "      Local_vol[i][j] = (Local_vol[i][j+1] + Local_vol[i][j-1])/2\n",
        "\n",
        "    \n",
        "\n",
        "\n",
        "Local2 = pd.DataFrame(Local_vol)\n"
      ],
      "metadata": {
        "id": "isoL__Uu2flc"
      },
      "execution_count": 31,
      "outputs": []
    },
    {
      "cell_type": "code",
      "source": [
        "df = Local2.iloc[1:,:]"
      ],
      "metadata": {
        "id": "i2ABKUXB3Kil"
      },
      "execution_count": 34,
      "outputs": []
    },
    {
      "cell_type": "code",
      "source": [
        "x = df.columns\n",
        "y = df.index\n",
        "X,Y = np.meshgrid(x,y)\n",
        "Z = df\n",
        "fig = plt.figure()\n",
        "fig.set_size_inches(12, 8)\n",
        "ax = fig.add_subplot(111,projection='3d')\n",
        "ax.plot_surface(Y,X,Z,cmap='viridis')\n",
        "\n",
        "\n",
        "ax.set_ylabel('Time to maturity')\n",
        "ax.set_xlabel('Strikes')\n",
        "\n"
      ],
      "metadata": {
        "id": "t1T9Kju53Hfc"
      },
      "execution_count": null,
      "outputs": []
    },
    {
      "cell_type": "markdown",
      "source": [
        "# From Local to prices"
      ],
      "metadata": {
        "id": "6F74q4sPVKOP"
      }
    },
    {
      "cell_type": "code",
      "source": [
        "def std_MC(S0,K,n,m,t,num):\n",
        "    brownian=np.zeros([n,m+1])\n",
        "    time=np.zeros(m+1)\n",
        "    S=np.zeros([n,m+1])\n",
        "    z=np.random.normal(0,1,(n,m+1))\n",
        "    payoff=np.zeros(n)\n",
        "    int_dw = np.zeros([n,m+1])\n",
        "    iv=np.zeros([n,m+1])\n",
        "    int_du = np.zeros([n,m+1])\n",
        "    y = np.zeros([n,m+1])\n",
        "    didt = np.zeros([n,m+1])\n",
        "    didy=np.zeros([n,m+1])\n",
        "    didy2=np.zeros([n,m+1])\n",
        "    local_var = np.zeros([n,m+1])\n",
        "    local_vol = np.zeros([n,m+1])\n",
        "\n",
        "    for i in range(0,n):\n",
        "        S[i][0]=S0\n",
        "        brownian[i][0]=0\n",
        "        int_du[i][0] = 0\n",
        "        int_dw[i][0] = 0\n",
        "\n",
        "        for j in range(0,m):\n",
        "            iv[i][j] = (SVI_calibration(np.log(S[i][j]),a_cal[num],b_cal[num],rho_cal[num],m_cal[num],sigma_cal[num]))**.5\n",
        "\n",
        "            y[i][j] = np.log(S[i][j]/forwards[num])\n",
        "            didt[i][j] = ((SVI_calibration(np.log(S[i][j]),a_cal[num+1],b_cal[num+1],rho_cal[num+1],m_cal[num+1],sigma_cal[num+1]))**2- iv[i][j]) / (T[num+1]-T[num])\n",
        "            didy[i][j] = ((SVI_calibration(np.log(S[i][j]+0.5),a_cal[num+1],b_cal[num+1],rho_cal[num+1],m_cal[num+1],sigma_cal[num+1]))**2 - iv[i][j]) / (np.log((S[i][j]+0.5)/S0)-np.log(S[i][j]/S0)) \n",
        "            didy2[i][j] = ((SVI_calibration(np.log(S[i][j]+0.5),a_cal[num+1],b_cal[num+1],rho_cal[num+1],m_cal[num+1],sigma_cal[num+1]))**2-(SVI_calibration(np.log(S[i][j]-0.5),a_cal[num+1],b_cal[num+1],rho_cal[num+1],m_cal[num+1],sigma_cal[num+1]))**2 + 2*iv[i][j])/ (np.log((S[i][j]+0.5)/S0)-np.log(S[i][j]/S0))**2 \n",
        "\n",
        "            local_var[i][j] = ((2*T[num]*iv[i][j]*didt[i][j] + iv[i][j]**2)/((1-2*didy[i][j]*y[i][j]/iv[i][j] + 2*(T[num]*iv[i][j]*didy[i][j])**2*(-1/8-1/(2*T[num]*iv[i][j]**2)+y[i][j]**2) + T[num]*iv[i][j]*didy2[i][j] + 2*T[num]*didy[i][j]**2)))\n",
        "            \n",
        "            if local_var[i][j] >=0:\n",
        "              local_vol[i][j] = (local_var[i][j])**.5\n",
        "    \n",
        "            else:\n",
        "              local_vol[i][j] = (abs(local_var[i][j]))**.5     \n",
        "            \n",
        "            time[j+1]=time[j]+t/m\n",
        "            brownian[i][j+1]=brownian[i,j]+z[i,j]*np.sqrt(t/m)\n",
        "          \n",
        "            int_dw[i][j+1]=int_dw[i][j]+local_vol[i][j]*(brownian[i][j+1]-brownian[i][j])*np.sqrt(t/m)\n",
        "            \n",
        "            \n",
        "            int_du[i][j+1]= int_du[i][j] + (local_vol[i][j]**2)*t/m\n",
        "\n",
        "            S[i][j+1]=S[i][0]*(np.exp((-0.5*int_du[i][j])+ int_dw[i][j]))\n",
        "        print(S[i][m])  \n",
        "        payoff[i]=np.maximum(S[i][m]-K,0)\n",
        " \n",
        "    return(S,np.mean(payoff))"
      ],
      "metadata": {
        "id": "rxrk6cUcZGqo"
      },
      "execution_count": null,
      "outputs": []
    },
    {
      "cell_type": "code",
      "source": [
        "std_MC(forwards[5],K[35],1000,100,T[2],2)"
      ],
      "metadata": {
        "id": "1PPw5IVTHp5Y"
      },
      "execution_count": null,
      "outputs": []
    },
    {
      "cell_type": "markdown",
      "source": [
        "#SVI Iker"
      ],
      "metadata": {
        "id": "uRboxN99bw6M"
      }
    },
    {
      "cell_type": "code",
      "source": [
        "I = np.zeros((51,18)) #Implied vols from SVI\n",
        "\n",
        "for i in range(18):\n",
        "  for j in range(51):\n",
        "    I[j][i] = (SVI_calibration(np.log(K[j]),a_cal[i],b_cal[i],rho_cal[i],m_cal[i],sigma_cal[i]))**.5 \n",
        "\n",
        "I = pd.DataFrame(I)"
      ],
      "metadata": {
        "id": "hw8FRXKCZfF7"
      },
      "execution_count": null,
      "outputs": []
    },
    {
      "cell_type": "code",
      "source": [
        "y = K\n",
        "x = T\n",
        "X,Y = np.meshgrid(x,y)\n",
        "Z = I\n",
        "fig = plt.figure()\n",
        "fig.set_size_inches(12, 8)\n",
        "ax = fig.add_subplot(111,projection='3d')\n",
        "ax.plot_surface(Y,X,Z)"
      ],
      "metadata": {
        "id": "kiZhAvxdZotP"
      },
      "execution_count": null,
      "outputs": []
    },
    {
      "cell_type": "code",
      "source": [
        "I = I.to_numpy() \n",
        "\n",
        "Local_var = np.zeros((50,17))\n",
        "\n",
        "Local_vol = np.zeros((50,17)) #Local vols from SVI\n",
        "\n",
        "didt = np.zeros((50,17)) \n",
        "didy = np.zeros((50,17))\n",
        "didy2 = np.zeros((50,17)) \n",
        "\n",
        "for i in range(1,len(IV)-1):\n",
        "  for j in range(17):\n",
        "    didt[i][j] = (I[i][j+1] - I[i][j]) / (T[j+1] - T[j])\n",
        "    didy[i][j] = (I[i+1][j] - I[i][j]) / (y[i+1][j]-y[i][j]) \n",
        "    didy2[i][j] = (I[i+1][j]-I[i-1][j] + 2*I[i][j])/ (y[i+1][j]-y[i][j])**2 \n",
        "    \n",
        "    Local_var[i][j] = ((2*T[j]*I[i][j]*didt[i][j] + I[i][j]**2)/((1-2*didy[i][j]*y[i][j]/I[i][j] + 2*(T[j]*I[i][j]*didy[i][j])**2*(-1/8-1/(2*T[j]*I[i][j]**2)+y[i][j]**2) + T[j]*I[i][j]*didy2[i][j] + 2*T[j]*didy[i][j]**2)))\n",
        "\n",
        "    if Local_var[i][j] >=0:\n",
        "      Local_vol[i][j] = (Local_var[i][j])**.5\n",
        "\n",
        "      if Local_vol[i][j] > 5:\n",
        "        Local_vol[i][j] = (Local_vol[i+1][j] + Local_vol[i-1][j])/2\n",
        "\n",
        "    else:\n",
        "      Local_vol[i][j] = (Local_vol[i][j+1] + Local_vol[i][j-1])/2\n",
        "\n",
        "    \n",
        "\n",
        "\n",
        "Local2 = pd.DataFrame(Local_vol)"
      ],
      "metadata": {
        "id": "MwVLblY2ZjlD"
      },
      "execution_count": null,
      "outputs": []
    },
    {
      "cell_type": "code",
      "source": [
        "df = Local2.iloc[1:,:]"
      ],
      "metadata": {
        "id": "VygEnXgobDu1"
      },
      "execution_count": null,
      "outputs": []
    },
    {
      "cell_type": "code",
      "source": [
        "fig,ax= plt.subplots(nrows=3,ncols=3,figsize=(12,8),gridspec_kw={'wspace':0.2,'hspace':0.1},sharex='col',sharey='row')\n",
        "\n",
        "\n",
        "ax[0,0].plot(K[1:50],df[0],label = 'T = 0.1')\n",
        "ax[0,0].grid()  \n",
        "ax[0,0].legend(loc='best')\n",
        "\n",
        "ax[0,1].plot(K[1:50],df[1],label = 'T = 0.19')\n",
        "ax[0,1].grid()  \n",
        "ax[0,1].legend(loc='best')\n",
        "\n",
        "ax[0,2].plot(K[1:50],df[2],label = 'T = 0.27')\n",
        "ax[0,2].grid()  \n",
        "ax[0,2].legend(loc='best')\n",
        "\n",
        "ax[1,0].plot(K[1:50],df[3],label = 'T = 0.35')\n",
        "ax[1,0].grid()  \n",
        "ax[1,0].legend(loc='best')\n",
        "\n",
        "ax[1,1].plot(K[1:50],df[4],label = 'T = 0.44')\n",
        "ax[1,1].grid()  \n",
        "ax[1,1].legend(loc='best')\n",
        "\n",
        "ax[1,2].plot(K[1:50],df[5],label = 'T = 0.69' )\n",
        "ax[1,2].grid()  \n",
        "ax[1,2].legend(loc='best')\n",
        "\n",
        "ax[2,0].plot(K[1:50],df[6],label = 'T = 0.94')\n",
        "ax[2,0].grid()  \n",
        "ax[2,0].legend(loc='best')\n",
        "\n",
        "ax[2,1].plot(K[1:50],df[7],label = 'T = 1.19')\n",
        "ax[2,1].grid()  \n",
        "ax[2,1].legend(loc='best')\n",
        "\n",
        "ax[2,2].plot(K[1:50],df[8],label = 'T = 1.69')\n",
        "ax[2,2].grid()  \n",
        "ax[2,2].legend(loc='best')\n",
        "\n",
        "plt.setp(ax[-1, :], xlabel='Strikes')\n",
        "plt.setp(ax[:, 0], ylabel=' Local volatility')"
      ],
      "metadata": {
        "id": "XYze1UsAajb5"
      },
      "execution_count": null,
      "outputs": []
    },
    {
      "cell_type": "code",
      "source": [
        "fig,ax= plt.subplots(nrows=3,ncols=3,figsize=(12,8),gridspec_kw={'wspace':0.2,'hspace':0.1},sharex='col',sharey='row')\n",
        "\n",
        "\n",
        "ax[0,0].plot(K[1:50],df[9],label = 'T = 2.19 ')\n",
        "ax[0,0].grid()  \n",
        "ax[0,0].legend(loc='best')\n",
        "\n",
        "ax[0,1].plot(K[1:50],df[10],label = 'T = 2.68')\n",
        "ax[0,1].grid()  \n",
        "ax[0,1].legend(loc='best')\n",
        "\n",
        "ax[0,2].plot(K[1:50],df[11],label = 'T = 3.68')\n",
        "ax[0,2].grid()  \n",
        "ax[0,2].legend(loc='best')\n",
        "\n",
        "ax[1,0].plot(K[1:50],df[12],label = 'T = 4.68')\n",
        "ax[1,0].grid()  \n",
        "ax[1,0].legend(loc='best')\n",
        "\n",
        "ax[1,1].plot(K[1:50],df[13],label = 'T = 5.7')\n",
        "ax[1,1].grid()  \n",
        "ax[1,1].legend(loc='best')\n",
        "\n",
        "ax[1,2].plot(K[1:50],df[14],label = 'T = 6.7')\n",
        "ax[1,2].grid()  \n",
        "ax[1,2].legend(loc='best')\n",
        "\n",
        "ax[2,0].plot(K[1:50],df[15],label = 'T = 7.69')\n",
        "ax[2,0].grid()  \n",
        "ax[2,0].legend(loc='best')\n",
        "\n",
        "ax[2,1].plot(K[1:50],df[16],label = 'T = 8.69')\n",
        "ax[2,1].grid()  \n",
        "ax[2,1].legend(loc='best')\n",
        "\n",
        "ax[2,2].grid()\n",
        "\n",
        "plt.setp(ax[-1, :], xlabel='Strikes')\n",
        "plt.setp(ax[:, 0], ylabel=' Local volatility')"
      ],
      "metadata": {
        "id": "fcJ9vvmOar4r"
      },
      "execution_count": null,
      "outputs": []
    },
    {
      "cell_type": "code",
      "source": [
        "x = df.columns\n",
        "y = df.index\n",
        "X,Y = np.meshgrid(x,y)\n",
        "Z = df\n",
        "fig = plt.figure()\n",
        "fig.set_size_inches(12, 8)\n",
        "ax = fig.add_subplot(111,projection='3d')\n",
        "ax.plot_surface(Y,X,Z)"
      ],
      "metadata": {
        "id": "L4dEoBbsasb3"
      },
      "execution_count": null,
      "outputs": []
    },
    {
      "cell_type": "markdown",
      "source": [
        "# SSVI OPTION PRICING"
      ],
      "metadata": {
        "id": "WGHCaiBPVfHx"
      }
    },
    {
      "cell_type": "code",
      "source": [
        "def SSVI(k,t,params):\n",
        "  params = gamma, sigma, rho\n",
        "  var=(sigma**2)*t\n",
        "  phi=1/(gamma*var)*(1-(1-np.exp(-gamma*var))/(gamma*var))\n",
        "  return 0.5*var*(1.+rho*phi*k+np.sqrt((phi*k+rho)*(phi*k+rho)+1.-(rho**2)))\n",
        "\n",
        "def local_var(k,t,params):\n",
        "    params = gamma, sigma, rho\n",
        "    var=(sigma**2)*t\n",
        "    phi=1/(gamma*var)*(1-(1-np.exp(-gamma*var))/(gamma*var))\n",
        "    eps=0.001\n",
        "\n",
        "    didk=0.5*var*phi*(phi*k+rho*np.sqrt((phi**2)*(k**2)+2*phi*rho*k+1)+rho)/np.sqrt((phi**2)*(k**2)+2*phi*rho*k+1)\n",
        "    didk2=0.5*var*(phi**2)*(1-(rho**2))/ (((phi**2)*(k**2) + 2*phi*rho*k + 1)*np.sqrt((phi**2)*(k**2)+2*phi*rho*k+1))\n",
        "    didt=(SSVI(k,t+eps,params) - SSVI(k,t-eps,params))/(2*eps)\n",
        "    g_func=(1.-0.5*k*didk/SSVI(k,t+eps,params))*(1.-0.5*k*didk/SSVI(k,t+eps,params)) - 0.25*didk*didk*(0.25 + 1./SSVI(k,t+eps,params)) + 0.5*didk2\n",
        "    loc_var=didt/g_func\n",
        "    return loc_var"
      ],
      "metadata": {
        "id": "DHeIk5T8bvbu"
      },
      "execution_count": null,
      "outputs": []
    },
    {
      "cell_type": "code",
      "source": [
        "sigma, gamma, rho = 0.2, 0.8, -0.7\n",
        "\n",
        "print(\"Avoidance of static arbitrage: \", (gamma - 0.25*(1.+np.abs(rho))>0.))\n",
        "params = gamma, sigma, rho\n"
      ],
      "metadata": {
        "id": "NJwrnaMVdQbO"
      },
      "execution_count": null,
      "outputs": []
    },
    {
      "cell_type": "code",
      "source": [
        "def local_price(s0,k,t, params,n,m):\n",
        "    delta = t / (1.*m)\n",
        "    S = np.linspace(s0,s0,n)\n",
        "    time=np.linspace(delta,t,m)\n",
        "    for i in time:\n",
        "      sig1=np.sqrt(local_var(np.log(S), i,params))\n",
        "      S = S*np.exp(-0.5*(sig1**2)*delta + np.sqrt(delta)*sig1*np.random.normal(0,1,n))\n",
        "    price = np.mean(np.maximum(S-k, 0.))\n",
        "    return price"
      ],
      "metadata": {
        "id": "i8nCyKC1cEic"
      },
      "execution_count": null,
      "outputs": []
    },
    {
      "cell_type": "code",
      "source": [
        "local_price(2558.14,100,0.11,params,100000,1500)"
      ],
      "metadata": {
        "id": "QYR8l0G1dvSe"
      },
      "execution_count": null,
      "outputs": []
    },
    {
      "cell_type": "code",
      "source": [
        "def exotic_price(s0,k,t,params,n,m,pay):\n",
        "  delta = t / (1.*m)\n",
        "  SS = np.linspace(s0,s0,n)\n",
        "  time=np.linspace(delta,t,m)\n",
        "  payoff=np.zeros(n)\n",
        "  payoff[0]=0\n",
        "  for i in time:\n",
        "    sig1=np.sqrt(local_var(np.log(SS), i,params))\n",
        "    SS = SS*np.exp(-0.5*(sig1**2)*delta + np.sqrt(delta)*sig1*np.random.normal(0,1,n))\n",
        "  for j in range(0,n):\n",
        "    if SS[j]>=k:\n",
        "      payoff[j]=pay\n",
        "    else:\n",
        "      payoff[j]=0\n",
        "  price = np.mean(payoff)\n",
        "  return price"
      ],
      "metadata": {
        "id": "5uq8veZs5mOX"
      },
      "execution_count": null,
      "outputs": []
    },
    {
      "cell_type": "code",
      "source": [
        "exotic_price(2800,3100,1,params,10000,1500,100)"
      ],
      "metadata": {
        "id": "8_lSq5vi5wKa"
      },
      "execution_count": null,
      "outputs": []
    }
  ]
}